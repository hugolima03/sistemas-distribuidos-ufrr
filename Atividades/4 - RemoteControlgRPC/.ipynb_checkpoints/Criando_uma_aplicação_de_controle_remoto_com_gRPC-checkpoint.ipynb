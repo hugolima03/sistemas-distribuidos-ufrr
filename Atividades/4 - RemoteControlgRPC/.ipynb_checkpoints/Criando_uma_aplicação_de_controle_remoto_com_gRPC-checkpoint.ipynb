{
 "cells": [
  {
   "cell_type": "markdown",
   "id": "d46846ae",
   "metadata": {
    "id": "d46846ae"
   },
   "source": [
    "## Criando uma aplicação de controle remoto com gRPC\n",
    "Aluno: Hugo Lima Romão  \n",
    "Primeiro vamos instalar as dependências.\n"
   ]
  },
  {
   "cell_type": "code",
   "execution_count": null,
   "id": "a7070b19",
   "metadata": {
    "colab": {
     "base_uri": "https://localhost:8080/"
    },
    "id": "a7070b19",
    "outputId": "a82f6c4f-0be0-408e-e51d-788a6f7b1d69"
   },
   "outputs": [],
   "source": [
    "!pip install grpcio grpcio-tools"
   ]
  },
  {
   "cell_type": "markdown",
   "id": "b4cbe383",
   "metadata": {
    "id": "b4cbe383"
   },
   "source": [
    "Definindo a interface RPC no arquivo remote_control.proto."
   ]
  },
  {
   "cell_type": "code",
   "execution_count": 3,
   "id": "b981c74e",
   "metadata": {
    "colab": {
     "base_uri": "https://localhost:8080/"
    },
    "id": "b981c74e",
    "outputId": "0e31fe98-9fbc-453e-e58e-057903231c43"
   },
   "outputs": [
    {
     "name": "stdout",
     "output_type": "stream",
     "text": [
      "Writing remote_control.proto\n"
     ]
    }
   ],
   "source": [
    "%%writefile remote_control.proto\n",
    "syntax = \"proto3\";\n",
    "\n",
    "package remote_control;\n",
    "\n",
    "service RemoteControl {\n",
    "  rpc ExecCmd (CmdRequest) returns (CmdResponse) {}\n",
    "}\n",
    "\n",
    "message CmdRequest {\n",
    "  string cmd = 1;\n",
    "}\n",
    "\n",
    "message CmdResponse {\n",
    "  string cmd = 1;\n",
    "}"
   ]
  },
  {
   "cell_type": "markdown",
   "id": "3c343861",
   "metadata": {
    "id": "3c343861"
   },
   "source": [
    "Em seguida, podemos usar o compilador gRPC para gerar o código Python correspondente à nossa interface RPC:"
   ]
  },
  {
   "cell_type": "code",
   "execution_count": 4,
   "id": "9243cdec",
   "metadata": {
    "id": "9243cdec"
   },
   "outputs": [],
   "source": [
    "!python -m grpc_tools.protoc -I./ --python_out=. --grpc_python_out=. remote_control.proto"
   ]
  },
  {
   "cell_type": "markdown",
   "id": "bf24fee8",
   "metadata": {
    "id": "bf24fee8"
   },
   "source": [
    "Agora é possível utilizar a interface para desenvolvermos nosso servidor.\n",
    "\n",
    "Para executar os commandos no servidor, vamos utilizar o pacote subprocess que fornece uma interface para criar novos processos. Estes processos serão executados pelo servidor.\n",
    "\n",
    "Vale destacar que nossa mensagem recebida pelo cliente é uma string python, precisamos então prepara-la para ser usado como parâmetro da função subprocess.run. Utilizamos uma flag para que o método retorne o output da execução do código, para que possamos enviar o resultado da execução ao cliente."
   ]
  },
  {
   "cell_type": "code",
   "execution_count": 7,
   "id": "efa9722e",
   "metadata": {
    "id": "efa9722e"
   },
   "outputs": [],
   "source": [
    "import grpc\n",
    "import remote_control_pb2\n",
    "import remote_control_pb2_grpc\n",
    "from  concurrent import futures\n",
    "\n",
    "import subprocess\n",
    "\n",
    "class RemoteControl(remote_control_pb2_grpc.RemoteControlServicer):\n",
    "    def ExecCmd(self, request, context):\n",
    "        result = subprocess.run(request.cmd.split(), capture_output=True)\n",
    "        return remote_control_pb2.CmdResponse(cmd=result.stdout.decode())\n",
    "\n",
    "def serve():\n",
    "    server = grpc.server(futures.ThreadPoolExecutor(max_workers=10))\n",
    "    remote_control_pb2_grpc.add_RemoteControlServicer_to_server(RemoteControl(), server)\n",
    "    server.add_insecure_port(\"[::]:50051\")\n",
    "    server.start()\n",
    "    server.wait_for_termination()\n",
    "\n",
    "if __name__ == \"__main__\":\n",
    "    serve()"
   ]
  },
  {
   "cell_type": "markdown",
   "id": "055372e5",
   "metadata": {
    "id": "055372e5"
   },
   "source": [
    "Resta apenas criar um cliente gRPC que irá enviar os comandos ao servidor."
   ]
  },
  {
   "cell_type": "code",
   "execution_count": 8,
   "id": "42f90757",
   "metadata": {
    "id": "42f90757"
   },
   "outputs": [],
   "source": [
    "import grpc\n",
    "import remote_control_pb2\n",
    "import remote_control_pb2_grpc\n",
    "\n",
    "def run():\n",
    "    with grpc.insecure_channel(\"localhost:50051\") as channel:\n",
    "        while True:\n",
    "            cmd = input('Enter a command to server:\\n')\n",
    "            stub = remote_control_pb2_grpc.RemoteControlStub(channel)\n",
    "            response = stub.ExecCmd(remote_control_pb2.CmdRequest(cmd=cmd))\n",
    "            print('[localhost:50051] OUTPUT: ', response.cmd)\n",
    "\n",
    "if __name__ == \"__main__\":\n",
    "    run()"
   ]
  },
  {
   "cell_type": "markdown",
   "id": "aa4c3338",
   "metadata": {
    "id": "aa4c3338"
   },
   "source": [
    "# Bônus\n",
    "Como bônus vamos implementar uma simples autenticação de usuário, juntamente com um sistema de log que vai armazenara todos os comandos executados pelo servidor. Para isto utilizamos o pacote logging.\n",
    "\n",
    "A seguir temos o exemplo de como ficaria o novo arquivo de interfaces, agora com mais campos para realizar a autenticação.\n"
   ]
  },
  {
   "cell_type": "code",
   "execution_count": 10,
   "id": "C7w3GHKUnE2G",
   "metadata": {
    "colab": {
     "base_uri": "https://localhost:8080/"
    },
    "id": "C7w3GHKUnE2G",
    "outputId": "2db283ca-67b5-4747-eb64-2ca8ba3ccf02"
   },
   "outputs": [
    {
     "name": "stdout",
     "output_type": "stream",
     "text": [
      "Overwriting remote_control.proto\n"
     ]
    }
   ],
   "source": [
    "%%writefile remote_control.proto\n",
    "syntax = \"proto3\";\n",
    "\n",
    "package remote_control;\n",
    "\n",
    "service RemoteControl {\n",
    "  rpc ExecCmd (CmdRequest) returns (CmdResponse) {}\n",
    "}\n",
    "\n",
    "message CmdRequest {\n",
    "  string cmd = 1;\n",
    "  string client = 2;\n",
    "  string passwd = 3;\n",
    "}\n",
    "\n",
    "message CmdResponse {\n",
    "  string cmd = 1;\n",
    "  string error = 2;\n",
    "}\n"
   ]
  },
  {
   "cell_type": "markdown",
   "id": "7hiXpohUnVbH",
   "metadata": {
    "id": "7hiXpohUnVbH"
   },
   "source": [
    "Neste arquivo adicionamos os campos client e passwd como requisitos para qualquer requisição para o servidor. Outra alteração é na resposta do servidor, adicionamos um estado de erro para caso a autenticação rejeite o cliente. A seguir temos o código do servidor:"
   ]
  },
  {
   "cell_type": "code",
   "execution_count": 11,
   "id": "PCAv-JLfnlLD",
   "metadata": {
    "id": "PCAv-JLfnlLD"
   },
   "outputs": [],
   "source": [
    "import grpc\n",
    "import remote_control_pb2\n",
    "import remote_control_pb2_grpc\n",
    "from  concurrent import futures\n",
    "\n",
    "import subprocess\n",
    "import logging\n",
    "\n",
    "logging.basicConfig(level=logging.DEBUG, filename='cmds.log', filemode='w', format='%(process)d - [%(asctime)s] : %(levelname)s -> %(message)s')\n",
    "\n",
    "users = [\n",
    "    {\"name\": \"Hugo\", \"password\": \"RPC\"},\n",
    "    {\"name\": \"Leandro Balico\", \"password\": \"ufrr\"},\n",
    "]\n",
    "\n",
    "def verify_user(username, password, user_list):\n",
    "    for user in user_list:\n",
    "        if user[\"name\"] == username and user[\"password\"] == password:\n",
    "            logging.debug(f'Username: {username} Autheticated')\n",
    "            return True\n",
    "    print('Login failed')\n",
    "    return False\n",
    "\n",
    "class RemoteControl(remote_control_pb2_grpc.RemoteControlServicer):\n",
    "    def ExecCmd(self, request, context):\n",
    "        if (verify_user(request.client, request.passwd, users)):\n",
    "            result = subprocess.run(request.cmd.split(), capture_output=True)\n",
    "            resultDecoded = result.stdout.decode()\n",
    "            logging.debug(f\"[{request.client}] INPUT: {request.cmd}\")\n",
    "            logging.debug(f\"[{request.client}] OUTPUT: {resultDecoded}\")\n",
    "            return remote_control_pb2.CmdResponse(cmd=resultDecoded, error=\"0\")\n",
    "        else:\n",
    "            return remote_control_pb2.CmdResponse(cmd='Null', error=\"1\")\n",
    "\n",
    "def serve():\n",
    "    logging.debug(f'Iniciando servidor...')\n",
    "    server = grpc.server(futures.ThreadPoolExecutor(max_workers=10))\n",
    "    remote_control_pb2_grpc.add_RemoteControlServicer_to_server(RemoteControl(), server)\n",
    "    server.add_insecure_port(\"[::]:50051\")\n",
    "    server.start()\n",
    "    server.wait_for_termination()\n",
    "\n",
    "if __name__ == \"__main__\":\n",
    "    serve()"
   ]
  },
  {
   "cell_type": "markdown",
   "id": "v2hnCECgnpAA",
   "metadata": {
    "id": "v2hnCECgnpAA"
   },
   "source": [
    "Primeiramente adicionamos uma lista de usuários que vai simular uma base de dados de usuários. Definimos então uma função que verifica as credenciais do cliente na base de usuários, esta função é executada a cada comando recebido pelo servidor, de forma que quando o usuário não é válido, o comando não é executado e é enviado um código de erro para o cliente.\n",
    "\n",
    "Outra grande alteração é na utilização do pacote de logging, definimos um arquivo de log que será criado na raiz do projeto e é atualizado com todos os comandos recebidos pelo servidor. O arquivo de log também armazena qual usuário fez a requisição.\n",
    "\n",
    "A seguir temos o código do cliente."
   ]
  },
  {
   "cell_type": "code",
   "execution_count": 12,
   "id": "LAOgH4asoD_b",
   "metadata": {
    "id": "LAOgH4asoD_b"
   },
   "outputs": [],
   "source": [
    "import grpc\n",
    "import remote_control_pb2\n",
    "import remote_control_pb2_grpc\n",
    "\n",
    "def run():\n",
    "    with grpc.insecure_channel(\"localhost:50051\") as channel:\n",
    "        name = input('Digite seu nome\\n')\n",
    "        passwd = input('Digite sua senha\\n')\n",
    "        while True:\n",
    "            cmd = input('Enter a command to server:\\n')\n",
    "            stub = remote_control_pb2_grpc.RemoteControlStub(channel)\n",
    "            response = stub.ExecCmd(remote_control_pb2.CmdRequest(cmd=cmd, client=name, passwd=passwd))\n",
    "            if (int(response.error) == 1):\n",
    "                print('Senha ou usuário inválidos')\n",
    "                break\n",
    "            print('[localhost:50051] OUTPUT: ', response.cmd)\n",
    "\n",
    "if __name__ == \"__main__\":\n",
    "    run()"
   ]
  },
  {
   "cell_type": "markdown",
   "id": "gpZHCPwkoox-",
   "metadata": {
    "id": "gpZHCPwkoox-"
   },
   "source": [
    "As principais alterações na aplicação cliente é apenas no envio das credenciais e um tratamento de erro caso o servidor rejeite a conexão."
   ]
  },
  {
   "cell_type": "markdown",
   "id": "-M4yFT-hpB3c",
   "metadata": {
    "id": "-M4yFT-hpB3c"
   },
   "source": []
  }
 ],
 "metadata": {
  "colab": {
   "provenance": []
  },
  "kernelspec": {
   "display_name": "Python 3 (ipykernel)",
   "language": "python",
   "name": "python3"
  },
  "language_info": {
   "codemirror_mode": {
    "name": "ipython",
    "version": 3
   },
   "file_extension": ".py",
   "mimetype": "text/x-python",
   "name": "python",
   "nbconvert_exporter": "python",
   "pygments_lexer": "ipython3",
   "version": "3.11.2"
  }
 },
 "nbformat": 4,
 "nbformat_minor": 5
}
