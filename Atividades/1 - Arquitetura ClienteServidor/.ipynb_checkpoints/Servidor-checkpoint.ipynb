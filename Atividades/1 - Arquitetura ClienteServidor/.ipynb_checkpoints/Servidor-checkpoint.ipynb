{
 "cells": [
  {
   "cell_type": "markdown",
   "id": "42e9c6e4",
   "metadata": {},
   "source": [
    "# Atividade 1 (Servidor) - Hugo Lima\n",
    "Instalando os pacotes necessários"
   ]
  },
  {
   "cell_type": "code",
   "execution_count": 1,
   "id": "16dac011",
   "metadata": {},
   "outputs": [
    {
     "name": "stdout",
     "output_type": "stream",
     "text": [
      "Requirement already satisfied: cryptography in /Library/Frameworks/Python.framework/Versions/3.11/lib/python3.11/site-packages (40.0.2)\n",
      "Requirement already satisfied: cffi>=1.12 in /Library/Frameworks/Python.framework/Versions/3.11/lib/python3.11/site-packages (from cryptography) (1.15.1)\n",
      "Requirement already satisfied: pycparser in /Library/Frameworks/Python.framework/Versions/3.11/lib/python3.11/site-packages (from cffi>=1.12->cryptography) (2.21)\n"
     ]
    }
   ],
   "source": [
    "!pip install cryptography"
   ]
  },
  {
   "cell_type": "markdown",
   "id": "2e533047",
   "metadata": {},
   "source": [
    "Importando pacotes"
   ]
  },
  {
   "cell_type": "code",
   "execution_count": 1,
   "id": "5d672841",
   "metadata": {},
   "outputs": [],
   "source": [
    "import socket\n",
    "import threading\n",
    "from cryptography.fernet import Fernet"
   ]
  },
  {
   "cell_type": "markdown",
   "id": "98a57446",
   "metadata": {},
   "source": [
    "Definindo variaveis de ambiente e a secret_key para comunicação criptografada com os clientes"
   ]
  },
  {
   "cell_type": "code",
   "execution_count": 6,
   "id": "842178a5",
   "metadata": {},
   "outputs": [],
   "source": [
    "HOST = ''\n",
    "PORT = 5051\n",
    "SECRET_KEY = b'ZmDfcTF7_60GrrY167zsiPd67pEvs0aGOv2oasOM1Pg='"
   ]
  },
  {
   "cell_type": "markdown",
   "id": "1e957709",
   "metadata": {},
   "source": [
    "Definimos aqui a função responsavel por realizar a conexão com o cliente. Nela iniciamos uma instância do Fernet e decodificamos a mensagem com a chave secreta, retornamos então uma resposta não criptografada apenas para indicar para o cliente que a mensagem foi recebida."
   ]
  },
  {
   "cell_type": "code",
   "execution_count": 3,
   "id": "9473ccc2",
   "metadata": {},
   "outputs": [],
   "source": [
    "def handle_connection(conn, addr):\n",
    "    fernet = Fernet(SECRET_KEY)\n",
    "\n",
    "    print(f'Conectado por {addr}')\n",
    "    data = conn.recv(1024)\n",
    "    mensagem_cifrada = data.decode()\n",
    "    mensagem_decifrada = fernet.decrypt(mensagem_cifrada)\n",
    "    print(f'Mensagem recebida: {mensagem_decifrada}')\n",
    "\n",
    "    conn.sendall('Mensagem recebida com sucesso!'.encode())\n",
    "    conn.close()"
   ]
  },
  {
   "cell_type": "markdown",
   "id": "9f9cf5d6",
   "metadata": {},
   "source": [
    "Criamos então uma outra função que irá se comportar como main, nela iniciamos uma instância do servidor com o host e porta desejada, escutamos por mensagens e criamos uma thread para cada sessão com um cliente."
   ]
  },
  {
   "cell_type": "code",
   "execution_count": null,
   "id": "625fac34",
   "metadata": {},
   "outputs": [
    {
     "name": "stdout",
     "output_type": "stream",
     "text": [
      "Servidor escutando na porta 5051...\n",
      "Conectado por ('127.0.0.1', 49778)\n",
      "Mensagem recebida: b'Uma mensagem para o servidor'\n"
     ]
    }
   ],
   "source": [
    "def start_server():\n",
    "    s = socket.socket(socket.AF_INET, socket.SOCK_STREAM)\n",
    "    s.bind((HOST, PORT))\n",
    "    s.listen(5)\n",
    "    print(f'Servidor escutando na porta {PORT}...')\n",
    "\n",
    "    while True:\n",
    "        conn, addr = s.accept()\n",
    "        thread = threading.Thread(target=handle_connection, args=(conn, addr))\n",
    "        thread.start()\n",
    "\n",
    "start_server()"
   ]
  },
  {
   "cell_type": "markdown",
   "id": "0a484061",
   "metadata": {},
   "source": [
    "Basta então executar instâncias do script client.py para enviar mensagens para este servidor."
   ]
  }
 ],
 "metadata": {
  "kernelspec": {
   "display_name": "Python 3 (ipykernel)",
   "language": "python",
   "name": "python3"
  },
  "language_info": {
   "codemirror_mode": {
    "name": "ipython",
    "version": 3
   },
   "file_extension": ".py",
   "mimetype": "text/x-python",
   "name": "python",
   "nbconvert_exporter": "python",
   "pygments_lexer": "ipython3",
   "version": "3.11.2"
  }
 },
 "nbformat": 4,
 "nbformat_minor": 5
}
