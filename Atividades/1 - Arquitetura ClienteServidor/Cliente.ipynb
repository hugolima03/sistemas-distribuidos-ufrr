{
 "cells": [
  {
   "cell_type": "markdown",
   "id": "d977b621",
   "metadata": {},
   "source": [
    "# Atividade 1 (Cliente) - Hugo Lima\n",
    "Instalando os pacotes necessários"
   ]
  },
  {
   "cell_type": "code",
   "execution_count": 1,
   "id": "b97f0ecf",
   "metadata": {},
   "outputs": [
    {
     "name": "stdout",
     "output_type": "stream",
     "text": [
      "Requirement already satisfied: cryptography in /Library/Frameworks/Python.framework/Versions/3.11/lib/python3.11/site-packages (40.0.2)\n",
      "Requirement already satisfied: cffi>=1.12 in /Library/Frameworks/Python.framework/Versions/3.11/lib/python3.11/site-packages (from cryptography) (1.15.1)\n",
      "Requirement already satisfied: pycparser in /Library/Frameworks/Python.framework/Versions/3.11/lib/python3.11/site-packages (from cffi>=1.12->cryptography) (2.21)\n"
     ]
    }
   ],
   "source": [
    "!pip install cryptography"
   ]
  },
  {
   "cell_type": "markdown",
   "id": "fc828cb8",
   "metadata": {},
   "source": [
    "Importando pacotes"
   ]
  },
  {
   "cell_type": "code",
   "execution_count": 2,
   "id": "5eba3050",
   "metadata": {},
   "outputs": [],
   "source": [
    "import socket\n",
    "from cryptography.fernet import Fernet"
   ]
  },
  {
   "cell_type": "markdown",
   "id": "b432ad04",
   "metadata": {},
   "source": [
    "Definindo variaveis de ambiente e a secret_key para comunicação criptografada com o servidor"
   ]
  },
  {
   "cell_type": "code",
   "execution_count": 9,
   "id": "cb9cccf0",
   "metadata": {},
   "outputs": [],
   "source": [
    "HOST = 'localhost'\n",
    "PORT = 5051\n",
    "SECRET_KEY = b'ZmDfcTF7_60GrrY167zsiPd67pEvs0aGOv2oasOM1Pg='"
   ]
  },
  {
   "cell_type": "markdown",
   "id": "8c582192",
   "metadata": {},
   "source": [
    "Diferente do script do servidor, neste não utilizamos funções. O código a seguir cria uma instância do Fernet utilizando a secret_key do cliente, é criada então uma conexão socket no host e porta declarados anteriormente.\n",
    "\n",
    "Para enviar as mensagens de forma criptografada decodificamos a mensagem com o método ```fernet.encrypt(mensagem_decodificada)```, desta forma apenas os "
   ]
  },
  {
   "cell_type": "code",
   "execution_count": 10,
   "id": "b05d0647",
   "metadata": {},
   "outputs": [
    {
     "name": "stdout",
     "output_type": "stream",
     "text": [
      "Resposta do servidor: Mensagem recebida com sucesso!\n"
     ]
    }
   ],
   "source": [
    "fernet = Fernet(SECRET_KEY)\n",
    "s = socket.socket(socket.AF_INET, socket.SOCK_STREAM)\n",
    "s.connect((HOST, PORT))\n",
    "\n",
    "# Recebe a mensagem como parâmetro do terminal\n",
    "mensagem = 'Uma mensagem para o servidor'\n",
    "\n",
    "mensagem_decodificada = mensagem.encode()\n",
    "mensagem_codificada = fernet.encrypt(mensagem_decodificada)\n",
    "\n",
    "s.sendall(mensagem_codificada)\n",
    "data = s.recv(1024)\n",
    "print(f'Resposta do servidor: {data.decode()}')\n",
    "s.close()"
   ]
  }
 ],
 "metadata": {
  "kernelspec": {
   "display_name": "Python 3 (ipykernel)",
   "language": "python",
   "name": "python3"
  },
  "language_info": {
   "codemirror_mode": {
    "name": "ipython",
    "version": 3
   },
   "file_extension": ".py",
   "mimetype": "text/x-python",
   "name": "python",
   "nbconvert_exporter": "python",
   "pygments_lexer": "ipython3",
   "version": "3.11.2"
  }
 },
 "nbformat": 4,
 "nbformat_minor": 5
}
