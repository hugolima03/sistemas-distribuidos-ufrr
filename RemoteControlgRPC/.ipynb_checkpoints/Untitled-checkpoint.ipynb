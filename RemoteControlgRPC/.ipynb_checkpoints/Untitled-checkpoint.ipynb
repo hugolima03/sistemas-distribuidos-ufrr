{
 "cells": [
  {
   "cell_type": "markdown",
   "id": "d46846ae",
   "metadata": {},
   "source": [
    "## Criando uma aplicação de controle remoto com gRPC\n",
    "Primeiro vamos instalar as dependências."
   ]
  },
  {
   "cell_type": "code",
   "execution_count": 1,
   "id": "a7070b19",
   "metadata": {},
   "outputs": [
    {
     "name": "stdout",
     "output_type": "stream",
     "text": [
      "Requirement already satisfied: grpcio in /Users/hugolima/.pyenv/versions/3.10.11/lib/python3.10/site-packages (1.54.0)\r\n",
      "Requirement already satisfied: grpcio-tools in /Users/hugolima/.pyenv/versions/3.10.11/lib/python3.10/site-packages (1.54.0)\r\n",
      "Requirement already satisfied: protobuf<5.0dev,>=4.21.6 in /Users/hugolima/.pyenv/versions/3.10.11/lib/python3.10/site-packages (from grpcio-tools) (4.22.4)\r\n",
      "Requirement already satisfied: setuptools in /Users/hugolima/.pyenv/versions/3.10.11/lib/python3.10/site-packages (from grpcio-tools) (65.5.0)\r\n"
     ]
    }
   ],
   "source": [
    "!pip install grpcio grpcio-tools"
   ]
  },
  {
   "cell_type": "markdown",
   "id": "b4cbe383",
   "metadata": {},
   "source": [
    "Definindo a interface RPC no arquivo remote_control.proto."
   ]
  },
  {
   "cell_type": "code",
   "execution_count": 10,
   "id": "b981c74e",
   "metadata": {},
   "outputs": [
    {
     "name": "stdout",
     "output_type": "stream",
     "text": [
      "Overwriting my_service.proto\n"
     ]
    }
   ],
   "source": [
    "%%writefile my_service.proto\n",
    "syntax = \"proto3\";\n",
    "\n",
    "package remote_control;\n",
    "\n",
    "service RemoteControl {\n",
    "  rpc ExecCmd (CmdRequest) returns (CmdResponse) {}\n",
    "}\n",
    "\n",
    "message CmdRequest {\n",
    "  string cmd = 1;\n",
    "}\n",
    "\n",
    "message CmdResponse {\n",
    "  string cmd = 1;\n",
    "}"
   ]
  },
  {
   "cell_type": "markdown",
   "id": "3c343861",
   "metadata": {},
   "source": [
    "Em seguida, podemos usar o compilador gRPC para gerar o código Python correspondente à nossa interface RPC:"
   ]
  },
  {
   "cell_type": "code",
   "execution_count": 11,
   "id": "9243cdec",
   "metadata": {},
   "outputs": [],
   "source": [
    "!python -m grpc_tools.protoc -I./ --python_out=. --grpc_python_out=. my_service.proto"
   ]
  },
  {
   "cell_type": "markdown",
   "id": "bf24fee8",
   "metadata": {},
   "source": [
    "Agora é possível utilizar a interface para desenvolvermos nosso servidor.\n",
    "\n",
    "Para executar os commandos no servidor, vamos utilizar o pacote subprocess que fornece uma interface para criar novos processos. Estes processos serão executados pelo servidor.\n",
    "\n",
    "Vale destacar que nossa mensagem recebida pelo cliente é uma string python, precisamos então prepara-la para ser usado como parâmetro da função subprocess.run. Utilizamos uma flag para que o método retorne o output da execução do código, para que possamos enviar o resultado da execução ao cliente."
   ]
  },
  {
   "cell_type": "code",
   "execution_count": 15,
   "id": "efa9722e",
   "metadata": {},
   "outputs": [
    {
     "ename": "ModuleNotFoundError",
     "evalue": "No module named 'grpc'",
     "output_type": "error",
     "traceback": [
      "\u001b[0;31m---------------------------------------------------------------------------\u001b[0m",
      "\u001b[0;31mModuleNotFoundError\u001b[0m                       Traceback (most recent call last)",
      "Cell \u001b[0;32mIn[15], line 1\u001b[0m\n\u001b[0;32m----> 1\u001b[0m \u001b[38;5;28;01mimport\u001b[39;00m \u001b[38;5;21;01mgrpc\u001b[39;00m\n\u001b[1;32m      2\u001b[0m \u001b[38;5;28;01mimport\u001b[39;00m \u001b[38;5;21;01mremote_control_pb2\u001b[39;00m\n\u001b[1;32m      3\u001b[0m \u001b[38;5;28;01mimport\u001b[39;00m \u001b[38;5;21;01mremote_control_pb2_grpc\u001b[39;00m\n",
      "\u001b[0;31mModuleNotFoundError\u001b[0m: No module named 'grpc'"
     ]
    }
   ],
   "source": [
    "import grpc\n",
    "import remote_control_pb2\n",
    "import remote_control_pb2_grpc\n",
    "from  concurrent import futures\n",
    "\n",
    "import subprocess\n",
    "\n",
    "class RemoteControl(remote_control_pb2_grpc.RemoteControlServicer):\n",
    "    def ExecCmd(self, request, context):\n",
    "        result = subprocess.run(request.cmd.split(), capture_output=True)\n",
    "        return remote_control_pb2.CmdResponse(cmd=result.stdout.decode())\n",
    "\n",
    "def serve():\n",
    "    server = grpc.server(futures.ThreadPoolExecutor(max_workers=10))\n",
    "    remote_control_pb2_grpc.add_RemoteControlServicer_to_server(RemoteControl(), server)\n",
    "    server.add_insecure_port(\"[::]:50051\")\n",
    "    server.start()\n",
    "    server.wait_for_termination()\n",
    "\n",
    "if __name__ == \"__main__\":\n",
    "    serve()"
   ]
  },
  {
   "cell_type": "markdown",
   "id": "055372e5",
   "metadata": {},
   "source": [
    "Resta apenas criar um cliente gRPC que irá enviar os comandos ao servidor."
   ]
  },
  {
   "cell_type": "code",
   "execution_count": 16,
   "id": "42f90757",
   "metadata": {},
   "outputs": [
    {
     "ename": "ModuleNotFoundError",
     "evalue": "No module named 'grpc'",
     "output_type": "error",
     "traceback": [
      "\u001b[0;31m---------------------------------------------------------------------------\u001b[0m",
      "\u001b[0;31mModuleNotFoundError\u001b[0m                       Traceback (most recent call last)",
      "Cell \u001b[0;32mIn[16], line 1\u001b[0m\n\u001b[0;32m----> 1\u001b[0m \u001b[38;5;28;01mimport\u001b[39;00m \u001b[38;5;21;01mgrpc\u001b[39;00m\n\u001b[1;32m      2\u001b[0m \u001b[38;5;28;01mimport\u001b[39;00m \u001b[38;5;21;01mremote_control_pb2\u001b[39;00m\n\u001b[1;32m      3\u001b[0m \u001b[38;5;28;01mimport\u001b[39;00m \u001b[38;5;21;01mremote_control_pb2_grpc\u001b[39;00m\n",
      "\u001b[0;31mModuleNotFoundError\u001b[0m: No module named 'grpc'"
     ]
    }
   ],
   "source": [
    "import grpc\n",
    "import remote_control_pb2\n",
    "import remote_control_pb2_grpc\n",
    "\n",
    "def run():\n",
    "    with grpc.insecure_channel(\"localhost:50051\") as channel:\n",
    "        while True:\n",
    "            cmd = input('Enter a command to server:\\n')\n",
    "            stub = remote_control_pb2_grpc.RemoteControlStub(channel)\n",
    "            response = stub.ExecCmd(remote_control_pb2.CmdRequest(cmd=cmd))\n",
    "            print('[localhost:50051] OUTPUT: ', response.cmd)\n",
    "\n",
    "if __name__ == \"__main__\":\n",
    "    run()"
   ]
  },
  {
   "cell_type": "markdown",
   "id": "aa4c3338",
   "metadata": {},
   "source": []
  }
 ],
 "metadata": {
  "kernelspec": {
   "display_name": "Python 3 (ipykernel)",
   "language": "python",
   "name": "python3"
  },
  "language_info": {
   "codemirror_mode": {
    "name": "ipython",
    "version": 3
   },
   "file_extension": ".py",
   "mimetype": "text/x-python",
   "name": "python",
   "nbconvert_exporter": "python",
   "pygments_lexer": "ipython3",
   "version": "3.11.2"
  }
 },
 "nbformat": 4,
 "nbformat_minor": 5
}
